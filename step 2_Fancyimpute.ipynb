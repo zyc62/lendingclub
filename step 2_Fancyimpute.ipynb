{
 "cells": [
  {
   "cell_type": "code",
   "execution_count": 7,
   "metadata": {
    "scrolled": false
   },
   "outputs": [],
   "source": [
    "# %load test_fancy.py\n",
    "#from fancyimpute import KNN\n",
    "#from sklearn.neighbors import KNeighborsClassifier\n",
    "#from fancyimpute import BiScaler, KNN, NuclearNormMinimization, SoftImpute\n",
    "#import numpy as np\n",
    "#mport statsmodels.imputation.mice as MICE\n",
    "#df = pd.read_csv(\"PartitiallyImputedData.csv\")\n",
    "#array = np.array([['a', 'a', 'd', np.nan], ['c', 'c', np.nan, 'f']])\n",
    "#df = pd.DataFrame(array, columns = ['A','B','C','D'])\n",
    "#df[\"A\"] = df[\"A\"].astype('category')\n",
    "#df[\"B\"] = df[\"B\"].astype('category')\n",
    "#df[\"C\"] = df[\"C\"].astype('category')\n",
    "#df[\"D\"] = df[\"D\"].astype('category')\n",
    "#imp = MICE.MICEData(df)\n",
    "\n",
    "\n",
    "from fancyimpute import IterativeImputer\n",
    "\n",
    "#from fancyimpute import KNN\n",
    "import pandas as pd\n",
    "\n",
    "df = pd.read_csv('miceData_category.csv')\n",
    "col = df.columns\n",
    "imputer = IterativeImputer(sample_posterior=True)\n",
    "data_impute= imputer.fit_transform(df.values)\n",
    "\n",
    "#X_filled_knn = KNN(k=3).fit_transform(df.values)\n",
    "df_final = pd.DataFrame(data=data_impute, columns=col)\n",
    "\n",
    "df_final.to_csv('Iterative_sample_posteriorTrue.csv')\n",
    "\n",
    "#ii_mse = ((X_filled_ii[missing_mask] - X[missing_mask]) ** 2).mean()\n",
    "#print(\"Iterative Imputer norm minimization MSE: %f\" % ii_mse)\n",
    "\n",
    "#knn_mse = ((X_filled_knn[missing_mask] - X[missing_mask]) ** 2).mean()\n",
    "#print(\"knnImpute MSE: %f\" % knn_mse)\n",
    "\n",
    "\n",
    "\n",
    "\n"
   ]
  },
  {
   "cell_type": "code",
   "execution_count": null,
   "metadata": {},
   "outputs": [],
   "source": []
  }
 ],
 "metadata": {
  "kernelspec": {
   "display_name": "Python 3.5",
   "language": "python",
   "name": "python3"
  },
  "language_info": {
   "codemirror_mode": {
    "name": "ipython",
    "version": 3
   },
   "file_extension": ".py",
   "mimetype": "text/x-python",
   "name": "python",
   "nbconvert_exporter": "python",
   "pygments_lexer": "ipython3",
   "version": "3.5.6"
  }
 },
 "nbformat": 4,
 "nbformat_minor": 2
}
