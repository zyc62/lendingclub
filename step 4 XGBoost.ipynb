{
 "cells": [
  {
   "cell_type": "code",
   "execution_count": 1,
   "metadata": {},
   "outputs": [],
   "source": [
    "import pandas as pd\n",
    "\n",
    "data = pd.read_csv(\"../one_hot_encoded_data.csv\", index_col=[0])"
   ]
  },
  {
   "cell_type": "code",
   "execution_count": 2,
   "metadata": {},
   "outputs": [
    {
     "data": {
      "text/html": [
       "<div>\n",
       "<style scoped>\n",
       "    .dataframe tbody tr th:only-of-type {\n",
       "        vertical-align: middle;\n",
       "    }\n",
       "\n",
       "    .dataframe tbody tr th {\n",
       "        vertical-align: top;\n",
       "    }\n",
       "\n",
       "    .dataframe thead th {\n",
       "        text-align: right;\n",
       "    }\n",
       "</style>\n",
       "<table border=\"1\" class=\"dataframe\">\n",
       "  <thead>\n",
       "    <tr style=\"text-align: right;\">\n",
       "      <th></th>\n",
       "      <th>loan_amnt</th>\n",
       "      <th>funded_amnt</th>\n",
       "      <th>funded_amnt_inv</th>\n",
       "      <th>int_rate</th>\n",
       "      <th>installment</th>\n",
       "      <th>emp_length</th>\n",
       "      <th>annual_inc</th>\n",
       "      <th>loan_status</th>\n",
       "      <th>dti</th>\n",
       "      <th>delinq_2yrs</th>\n",
       "      <th>...</th>\n",
       "      <th>debt_settlement_flag_N</th>\n",
       "      <th>debt_settlement_flag_Y</th>\n",
       "      <th>settlement_status_ACTIVE</th>\n",
       "      <th>settlement_status_BROKEN</th>\n",
       "      <th>settlement_status_COMPLETE</th>\n",
       "      <th>settlement_status_No</th>\n",
       "      <th>next_pymnt_d_Apr-2019</th>\n",
       "      <th>next_pymnt_d_Feb-2019</th>\n",
       "      <th>next_pymnt_d_Mar-2019</th>\n",
       "      <th>next_pymnt_d_Unkown</th>\n",
       "    </tr>\n",
       "  </thead>\n",
       "  <tbody>\n",
       "    <tr>\n",
       "      <th>0</th>\n",
       "      <td>10000.0</td>\n",
       "      <td>10000.0</td>\n",
       "      <td>10000.0</td>\n",
       "      <td>4.0</td>\n",
       "      <td>307.27</td>\n",
       "      <td>10.0</td>\n",
       "      <td>55000.0</td>\n",
       "      <td>Current</td>\n",
       "      <td>19.22</td>\n",
       "      <td>0.0</td>\n",
       "      <td>...</td>\n",
       "      <td>1</td>\n",
       "      <td>0</td>\n",
       "      <td>0</td>\n",
       "      <td>0</td>\n",
       "      <td>0</td>\n",
       "      <td>1</td>\n",
       "      <td>0</td>\n",
       "      <td>0</td>\n",
       "      <td>1</td>\n",
       "      <td>0</td>\n",
       "    </tr>\n",
       "    <tr>\n",
       "      <th>1</th>\n",
       "      <td>35000.0</td>\n",
       "      <td>35000.0</td>\n",
       "      <td>35000.0</td>\n",
       "      <td>18.0</td>\n",
       "      <td>770.63</td>\n",
       "      <td>10.0</td>\n",
       "      <td>200000.0</td>\n",
       "      <td>Current</td>\n",
       "      <td>17.80</td>\n",
       "      <td>1.0</td>\n",
       "      <td>...</td>\n",
       "      <td>1</td>\n",
       "      <td>0</td>\n",
       "      <td>0</td>\n",
       "      <td>0</td>\n",
       "      <td>0</td>\n",
       "      <td>1</td>\n",
       "      <td>0</td>\n",
       "      <td>0</td>\n",
       "      <td>1</td>\n",
       "      <td>0</td>\n",
       "    </tr>\n",
       "    <tr>\n",
       "      <th>2</th>\n",
       "      <td>9600.0</td>\n",
       "      <td>9600.0</td>\n",
       "      <td>9600.0</td>\n",
       "      <td>8.0</td>\n",
       "      <td>300.13</td>\n",
       "      <td>3.0</td>\n",
       "      <td>90000.0</td>\n",
       "      <td>Current</td>\n",
       "      <td>25.59</td>\n",
       "      <td>1.0</td>\n",
       "      <td>...</td>\n",
       "      <td>1</td>\n",
       "      <td>0</td>\n",
       "      <td>0</td>\n",
       "      <td>0</td>\n",
       "      <td>0</td>\n",
       "      <td>1</td>\n",
       "      <td>0</td>\n",
       "      <td>0</td>\n",
       "      <td>1</td>\n",
       "      <td>0</td>\n",
       "    </tr>\n",
       "    <tr>\n",
       "      <th>3</th>\n",
       "      <td>18000.0</td>\n",
       "      <td>18000.0</td>\n",
       "      <td>18000.0</td>\n",
       "      <td>6.0</td>\n",
       "      <td>557.52</td>\n",
       "      <td>10.0</td>\n",
       "      <td>70000.0</td>\n",
       "      <td>Current</td>\n",
       "      <td>5.55</td>\n",
       "      <td>0.0</td>\n",
       "      <td>...</td>\n",
       "      <td>1</td>\n",
       "      <td>0</td>\n",
       "      <td>0</td>\n",
       "      <td>0</td>\n",
       "      <td>0</td>\n",
       "      <td>1</td>\n",
       "      <td>0</td>\n",
       "      <td>0</td>\n",
       "      <td>1</td>\n",
       "      <td>0</td>\n",
       "    </tr>\n",
       "    <tr>\n",
       "      <th>4</th>\n",
       "      <td>12000.0</td>\n",
       "      <td>12000.0</td>\n",
       "      <td>12000.0</td>\n",
       "      <td>10.0</td>\n",
       "      <td>378.59</td>\n",
       "      <td>3.0</td>\n",
       "      <td>36500.0</td>\n",
       "      <td>Current</td>\n",
       "      <td>33.61</td>\n",
       "      <td>0.0</td>\n",
       "      <td>...</td>\n",
       "      <td>1</td>\n",
       "      <td>0</td>\n",
       "      <td>0</td>\n",
       "      <td>0</td>\n",
       "      <td>0</td>\n",
       "      <td>1</td>\n",
       "      <td>0</td>\n",
       "      <td>0</td>\n",
       "      <td>1</td>\n",
       "      <td>0</td>\n",
       "    </tr>\n",
       "  </tbody>\n",
       "</table>\n",
       "<p>5 rows × 268 columns</p>\n",
       "</div>"
      ],
      "text/plain": [
       "   loan_amnt  funded_amnt  funded_amnt_inv  int_rate  installment  emp_length  \\\n",
       "0    10000.0      10000.0          10000.0       4.0       307.27        10.0   \n",
       "1    35000.0      35000.0          35000.0      18.0       770.63        10.0   \n",
       "2     9600.0       9600.0           9600.0       8.0       300.13         3.0   \n",
       "3    18000.0      18000.0          18000.0       6.0       557.52        10.0   \n",
       "4    12000.0      12000.0          12000.0      10.0       378.59         3.0   \n",
       "\n",
       "   annual_inc loan_status    dti  delinq_2yrs         ...           \\\n",
       "0     55000.0     Current  19.22          0.0         ...            \n",
       "1    200000.0     Current  17.80          1.0         ...            \n",
       "2     90000.0     Current  25.59          1.0         ...            \n",
       "3     70000.0     Current   5.55          0.0         ...            \n",
       "4     36500.0     Current  33.61          0.0         ...            \n",
       "\n",
       "   debt_settlement_flag_N  debt_settlement_flag_Y  settlement_status_ACTIVE  \\\n",
       "0                       1                       0                         0   \n",
       "1                       1                       0                         0   \n",
       "2                       1                       0                         0   \n",
       "3                       1                       0                         0   \n",
       "4                       1                       0                         0   \n",
       "\n",
       "   settlement_status_BROKEN  settlement_status_COMPLETE  settlement_status_No  \\\n",
       "0                         0                           0                     1   \n",
       "1                         0                           0                     1   \n",
       "2                         0                           0                     1   \n",
       "3                         0                           0                     1   \n",
       "4                         0                           0                     1   \n",
       "\n",
       "   next_pymnt_d_Apr-2019  next_pymnt_d_Feb-2019  next_pymnt_d_Mar-2019  \\\n",
       "0                      0                      0                      1   \n",
       "1                      0                      0                      1   \n",
       "2                      0                      0                      1   \n",
       "3                      0                      0                      1   \n",
       "4                      0                      0                      1   \n",
       "\n",
       "   next_pymnt_d_Unkown  \n",
       "0                    0  \n",
       "1                    0  \n",
       "2                    0  \n",
       "3                    0  \n",
       "4                    0  \n",
       "\n",
       "[5 rows x 268 columns]"
      ]
     },
     "execution_count": 2,
     "metadata": {},
     "output_type": "execute_result"
    }
   ],
   "source": [
    "data.head()"
   ]
  },
  {
   "cell_type": "code",
   "execution_count": 3,
   "metadata": {},
   "outputs": [],
   "source": [
    "X = data.drop(columns=[\"loan_status\"])\n",
    "\n",
    "data[\"loan_status\"] = data[\"loan_status\"].astype(\"category\")\n",
    "category = data[\"loan_status\"].cat.categories\n",
    "\n",
    "y = data[\"loan_status\"].cat.codes"
   ]
  },
  {
   "cell_type": "code",
   "execution_count": 4,
   "metadata": {},
   "outputs": [
    {
     "data": {
      "text/plain": [
       "array([1, 3, 6, 5, 4, 0, 2])"
      ]
     },
     "execution_count": 4,
     "metadata": {},
     "output_type": "execute_result"
    }
   ],
   "source": [
    "y.unique()"
   ]
  },
  {
   "cell_type": "code",
   "execution_count": 5,
   "metadata": {
    "scrolled": true
   },
   "outputs": [
    {
     "data": {
      "text/plain": [
       "Index(['Current', 'Current', 'Current', 'Current', 'Current', 'Current',\n",
       "       'Current', 'Current', 'Current', 'Current',\n",
       "       ...\n",
       "       'Current', 'Late (31-120 days)', 'Current', 'Current', 'Current',\n",
       "       'Current', 'Current', 'Current', 'Current', 'Current'],\n",
       "      dtype='object', length=128194)"
      ]
     },
     "execution_count": 5,
     "metadata": {},
     "output_type": "execute_result"
    }
   ],
   "source": [
    "category\n",
    "category[y]"
   ]
  },
  {
   "cell_type": "markdown",
   "metadata": {},
   "source": [
    "#### Xgboost manages only numeric vectors.\n",
    "https://xgboost.readthedocs.io/en/latest/R-package/discoverYourData.html\n"
   ]
  },
  {
   "cell_type": "code",
   "execution_count": 6,
   "metadata": {
    "scrolled": true
   },
   "outputs": [
    {
     "name": "stdout",
     "output_type": "stream",
     "text": [
      "The accuracy score is:  0.98927415265806\n"
     ]
    }
   ],
   "source": [
    "import xgboost as xgb\n",
    "from sklearn.model_selection import train_test_split\n",
    "from sklearn.metrics import accuracy_score\n",
    "\n",
    "\n",
    "\n",
    "X_train, X_test, y_train, y_test = train_test_split(X, y, test_size=0.2, random_state=666)\n",
    "\n",
    "\n",
    "\n",
    "# Xgboost manages only numeric vectors.\n",
    "dtrain = xgb.DMatrix(X_train.values, label=y_train.values)\n",
    "dtest = xgb.DMatrix(X_test.values, label=y_test.values)\n",
    "\n",
    "params = {\n",
    "    'booster': 'gbtree',\n",
    "    'objective': 'multi:softmax',\n",
    "    'num_class': 7,\n",
    "    'gamma': 0.1, \n",
    "    'max_depth': 6,\n",
    "    'lambda': 2,\n",
    "    'subsample': 0.7,\n",
    "    'colsample_bytree': 0.7,\n",
    "    'min_child_weight': 3,\n",
    "    'silent': 1,\n",
    "    'eta': 0.1,\n",
    "    'seed': 1000,\n",
    "    'nthread': 4,\n",
    "}\n",
    "\n",
    "plst = params.items()\n",
    "num_round = 10\n",
    "\n",
    "bst = xgb.train(plst, dtrain, num_round)\n",
    "\n",
    "\n",
    "\n",
    "y_pred = bst.predict(dtest)\n",
    "\n",
    "score = accuracy_score(y_test, y_pred)\n",
    "\n",
    "print(\"The accuracy score is: \", score)"
   ]
  },
  {
   "cell_type": "markdown",
   "metadata": {},
   "source": [
    "Cross Validation"
   ]
  },
  {
   "cell_type": "code",
   "execution_count": 8,
   "metadata": {},
   "outputs": [
    {
     "name": "stdout",
     "output_type": "stream",
     "text": [
      "Accuracy: 98.68% (0.26%)\n"
     ]
    }
   ],
   "source": [
    "from sklearn.model_selection import KFold\n",
    "from sklearn.model_selection import cross_val_score\n",
    "\n",
    "\n",
    "# CV model\n",
    "model = xgb.XGBClassifier()\n",
    "kfold = KFold(n_splits=4, random_state=666)\n",
    "results = cross_val_score(model, X, y, cv=kfold)\n",
    "print(\"Accuracy: %.2f%% (%.2f%%)\" % (results.mean()*100, results.std()*100))"
   ]
  },
  {
   "cell_type": "code",
   "execution_count": 26,
   "metadata": {},
   "outputs": [
    {
     "name": "stderr",
     "output_type": "stream",
     "text": [
      "/anaconda/envs/py35/lib/python3.5/site-packages/sklearn/preprocessing/data.py:617: DataConversionWarning: Data with input dtype int64, float64 were all converted to float64 by StandardScaler.\n",
      "  return self.partial_fit(X, y)\n",
      "/anaconda/envs/py35/lib/python3.5/site-packages/sklearn/base.py:462: DataConversionWarning: Data with input dtype int64, float64 were all converted to float64 by StandardScaler.\n",
      "  return self.fit(X, **fit_params).transform(X)\n"
     ]
    },
    {
     "name": "stdout",
     "output_type": "stream",
     "text": [
      "Accuracy: 98.68% (0.26%)\n"
     ]
    }
   ],
   "source": [
    "from sklearn.preprocessing import StandardScaler\n",
    "\n",
    "ss = StandardScaler()\n",
    "X_scaled = ss.fit_transform(X)\n",
    "# CV model\n",
    "model = xgb.XGBClassifier()\n",
    "kfold = KFold(n_splits=4, random_state=666)\n",
    "results = cross_val_score(model, X_scaled, y, cv=kfold)\n",
    "print(\"Accuracy: %.2f%% (%.2f%%)\" % (results.mean()*100, results.std()*100))"
   ]
  },
  {
   "cell_type": "code",
   "execution_count": 25,
   "metadata": {
    "scrolled": true
   },
   "outputs": [
    {
     "name": "stderr",
     "output_type": "stream",
     "text": [
      "/anaconda/envs/py35/lib/python3.5/site-packages/sklearn/preprocessing/data.py:617: DataConversionWarning: Data with input dtype int64, float64 were all converted to float64 by StandardScaler.\n",
      "  return self.partial_fit(X, y)\n",
      "/anaconda/envs/py35/lib/python3.5/site-packages/sklearn/base.py:462: DataConversionWarning: Data with input dtype int64, float64 were all converted to float64 by StandardScaler.\n",
      "  return self.fit(X, **fit_params).transform(X)\n",
      "/anaconda/envs/py35/lib/python3.5/site-packages/ipykernel/__main__.py:5: DataConversionWarning: Data with input dtype int64, float64 were all converted to float64 by StandardScaler.\n"
     ]
    },
    {
     "name": "stdout",
     "output_type": "stream",
     "text": [
      "The accuracy score is:  0.98927415265806\n"
     ]
    }
   ],
   "source": [
    "\n",
    "\n",
    "X_train_scaled = ss.fit_transform(X_train)\n",
    "X_test_scaled = ss.transform(X_test)\n",
    "\n",
    "# print(type(X_train_scaled))\n",
    "# Xgboost manages only numeric vectors.\n",
    "dtrain_scaled = xgb.DMatrix(X_train_scaled, label=y_train.values)\n",
    "dtest_scaled = xgb.DMatrix(X_test_scaled, label=y_test.values)\n",
    "\n",
    "bst2 = xgb.train(plst, dtrain_scaled, num_round)\n",
    "y_pred2 = bst2.predict(dtest_scaled)\n",
    "\n",
    "\n",
    "\n",
    "# print(type(y_pred2))\n",
    "\n",
    "score2 = accuracy_score(y_test, y_pred2)\n",
    "\n",
    "print(\"The accuracy score is: \", score2)"
   ]
  },
  {
   "cell_type": "code",
   "execution_count": 27,
   "metadata": {},
   "outputs": [
    {
     "name": "stdout",
     "output_type": "stream",
     "text": [
      "1.0\n"
     ]
    }
   ],
   "source": [
    "print(accuracy_score(y_pred, y_pred2))"
   ]
  },
  {
   "cell_type": "code",
   "execution_count": 16,
   "metadata": {},
   "outputs": [
    {
     "name": "stdout",
     "output_type": "stream",
     "text": [
      "(102555,)\n",
      "(25639,)\n",
      "(25639,)\n",
      "(102555, 267)\n"
     ]
    }
   ],
   "source": [
    "print(y_pred2.shape)\n",
    "print(y_test.shape)\n",
    "print(y_pred.shape)\n",
    "print(X_train_scaled.shape)"
   ]
  }
 ],
 "metadata": {
  "kernelspec": {
   "display_name": "Python 3",
   "language": "python",
   "name": "python3"
  },
  "language_info": {
   "codemirror_mode": {
    "name": "ipython",
    "version": 3
   },
   "file_extension": ".py",
   "mimetype": "text/x-python",
   "name": "python",
   "nbconvert_exporter": "python",
   "pygments_lexer": "ipython3",
   "version": "3.7.0"
  }
 },
 "nbformat": 4,
 "nbformat_minor": 2
}
